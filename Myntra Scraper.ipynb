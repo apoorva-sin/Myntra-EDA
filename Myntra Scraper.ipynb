{
 "cells": [
  {
   "cell_type": "code",
   "execution_count": 1,
   "id": "c3e25f88",
   "metadata": {},
   "outputs": [],
   "source": [
    "import pandas as pd\n",
    "import numpy as np\n",
    "import matplotlib.pyplot as plt\n",
    "import seaborn as sns\n",
    "from selenium import webdriver\n",
    "from selenium.webdriver.common.by import By\n",
    "import urllib.request\n",
    "import os, json, time, copy, re"
   ]
  },
  {
   "cell_type": "markdown",
   "id": "cda35182",
   "metadata": {},
   "source": [
    "#### Setting up the connection"
   ]
  },
  {
   "cell_type": "code",
   "execution_count": 34,
   "id": "8311c68a",
   "metadata": {},
   "outputs": [],
   "source": [
    "driver = webdriver.Chrome()"
   ]
  },
  {
   "cell_type": "code",
   "execution_count": 4,
   "id": "aca3d493",
   "metadata": {},
   "outputs": [],
   "source": [
    "driver.get('https://www.myntra.com/')"
   ]
  },
  {
   "cell_type": "code",
   "execution_count": 3,
   "id": "815057b8",
   "metadata": {},
   "outputs": [],
   "source": [
    "def searchBy(search_string):\n",
    "    driver.find_element(By.CLASS_NAME, 'desktop-searchBar').send_keys(search_string)\n",
    "    driver.find_element(By.CLASS_NAME, 'desktop-submit').click()"
   ]
  },
  {
   "cell_type": "code",
   "execution_count": 4,
   "id": "d7ce28bb",
   "metadata": {},
   "outputs": [],
   "source": [
    "def getProductLinks():\n",
    "    while(True):\n",
    "        if len(product_links) > 2000:\n",
    "            break\n",
    "\n",
    "        time.sleep(5)\n",
    "\n",
    "        for product in driver.find_elements(By.CLASS_NAME, 'product-base'):\n",
    "            product_links.append(product.find_element(By.XPATH, './a').get_attribute(\"href\")) \n",
    "\n",
    "        try:\n",
    "            driver.find_element(By.CLASS_NAME,'pagination-next').click()\n",
    "        except:\n",
    "            driver.close()\n",
    "            driver.quit()"
   ]
  },
  {
   "cell_type": "code",
   "execution_count": 5,
   "id": "6c7bc578",
   "metadata": {},
   "outputs": [],
   "source": [
    "product_links_all = []"
   ]
  },
  {
   "cell_type": "markdown",
   "id": "0edf4c8b",
   "metadata": {},
   "source": [
    "#### Getting each product link"
   ]
  },
  {
   "cell_type": "code",
   "execution_count": 6,
   "id": "233b4a05",
   "metadata": {},
   "outputs": [],
   "source": [
    "product_links = []"
   ]
  },
  {
   "cell_type": "code",
   "execution_count": 13,
   "id": "541eca2d",
   "metadata": {},
   "outputs": [],
   "source": [
    "# Search for a category\n",
    "categories = ['men', 'women']\n",
    "for cat in categories:\n",
    "    searchBy(cat) \n",
    "\n",
    "    # Get all product links of a particular category\n",
    "    getProductLinks()\n",
    "    \n",
    "    # Add all links to final list\n",
    "    product_links_all.extend(product_links)\n",
    "    product_links = []"
   ]
  },
  {
   "cell_type": "code",
   "execution_count": 7,
   "id": "cd7aa686",
   "metadata": {},
   "outputs": [],
   "source": [
    "# Save\n",
    "# with open('product_links_all.txt', 'w') as f:\n",
    "#     f.write(str(product_links_all))\n",
    "\n",
    "# Load\n",
    "product_links_all = []\n",
    "x = pd.read_csv('product_links_all.txt', header=None, sep=',').transpose()\n",
    "for i in range(len(x)):\n",
    "    product_links_all.append(x.iloc[i, 0][2:-1])"
   ]
  },
  {
   "cell_type": "code",
   "execution_count": 8,
   "id": "5f3bab26",
   "metadata": {},
   "outputs": [
    {
     "data": {
      "text/plain": [
       "['https://www.myntra.com/casual-shoes/skechers/skechers-men-black-equalizer---double-play-slip-on-sneakers/18906834/buy',\n",
       " 'https://www.myntra.com/flip-flops/beonza/beonza-unisex-sliders-flip-flops/23442272/buy',\n",
       " 'https://www.myntra.com/headphones/boat/boat-airdopes-black-163-m-with-asap-charge-in-the-ear-bluetooth-headset/19597724/buy',\n",
       " 'https://www.myntra.com/headphones/oneplus/oneplus-nord-buds-2r-true-wireless-in-ear-earbuds-with-mic/23738230/buy',\n",
       " 'https://www.myntra.com/headphones/noise/noise-buds-aero-truly-wireless-earbuds-with-45hrs-playtime-and-13mm-driver/23241666/buy']"
      ]
     },
     "execution_count": 8,
     "metadata": {},
     "output_type": "execute_result"
    }
   ],
   "source": [
    "product_links_all[0:5]"
   ]
  },
  {
   "cell_type": "code",
   "execution_count": 13,
   "id": "0b68e342",
   "metadata": {},
   "outputs": [
    {
     "data": {
      "text/plain": [
       "4100"
      ]
     },
     "execution_count": 13,
     "metadata": {},
     "output_type": "execute_result"
    }
   ],
   "source": [
    "len(product_links_all)"
   ]
  },
  {
   "cell_type": "code",
   "execution_count": 9,
   "id": "62c5c9c8",
   "metadata": {},
   "outputs": [],
   "source": [
    "metadata = {}"
   ]
  },
  {
   "cell_type": "code",
   "execution_count": 10,
   "id": "78987b51",
   "metadata": {},
   "outputs": [],
   "source": [
    "products = []"
   ]
  },
  {
   "cell_type": "markdown",
   "id": "6f7a4f70",
   "metadata": {},
   "source": [
    "#### Traversing through each link"
   ]
  },
  {
   "cell_type": "code",
   "execution_count": 11,
   "id": "c23d242c",
   "metadata": {},
   "outputs": [],
   "source": [
    "def traverseLink(start=0, end=1):\n",
    "    for url in product_links_all[start:end]:\n",
    "        driver.get(url)\n",
    "\n",
    "        try:\n",
    "            metadata['company'] = driver.find_element(By.CLASS_NAME, 'pdp-title').text\n",
    "        except:\n",
    "            metadata['company'] = 'None'\n",
    "        try:\n",
    "            metadata['name'] = driver.find_element(By.CLASS_NAME, 'pdp-name').text\n",
    "        except:\n",
    "            metadata['name'] = 'None'\n",
    "        try:\n",
    "            metadata['price'] = driver.find_element(By.CLASS_NAME, 'pdp-price').find_element(By.XPATH, './strong').text\n",
    "        except:\n",
    "            metadata['price'] = 'None'\n",
    "        try:\n",
    "            metadata['discount'] = driver.find_element(By.CLASS_NAME, 'pdp-discount').text\n",
    "        except:\n",
    "            metadata['discount'] = 'None'\n",
    "        try:\n",
    "            metadata['specs'] = driver.find_element(By.CLASS_NAME, 'pdp-product-description-content').text\n",
    "        except:\n",
    "            metadata['specs'] = 'None'\n",
    "        try:\n",
    "            metadata['material'] = driver.find_element(By.CLASS_NAME, 'pdp-sizeFitDescContent').text\n",
    "        except:\n",
    "            metadata['material'] = 'None'\n",
    "        try:\n",
    "            metadata['rating'] = driver.find_element(By.CLASS_NAME, 'index-overallRating').text\n",
    "        except:\n",
    "            metadata['rating'] = 'None'\n",
    "        try:\n",
    "            metadata['numBuyers'] = driver.find_element(By.CLASS_NAME, 'index-countDesc').text\n",
    "        except:\n",
    "            metadata['numBuyers'] = 'None'\n",
    "        \n",
    "        products.append(copy.deepcopy(metadata))"
   ]
  },
  {
   "cell_type": "code",
   "execution_count": 12,
   "id": "12cddcdc",
   "metadata": {},
   "outputs": [
    {
     "data": {
      "text/plain": [
       "{'company': 'Skechers',\n",
       " 'name': 'Men Black Equalizer - Double Play Slip-On Sneakers',\n",
       " 'price': '₹5249',\n",
       " 'discount': '(25% OFF)',\n",
       " 'specs': 'Special Technology:\\nSkechers Memory Foam Gel-Infused insole\\nFeatures:\\nA pair of round toe black slip-on sneakers ,has regular styling,\\nSlip-on detail\\nMesh upper\\nCushioned footbed\\nShock-absorbing FlexSole lightweight midsole\\nFlexible rubber traction outsole\\nTextured and patterned outsole\\nWarranty: 3 months\\nWarranty provided by Brand/Manufacturer',\n",
       " 'material': 'Mesh\\nWipe with clean and dry cloth to remove dust',\n",
       " 'rating': '4.4\\n|\\n145 Ratings',\n",
       " 'numBuyers': '145 Verified Buyers'}"
      ]
     },
     "execution_count": 12,
     "metadata": {},
     "output_type": "execute_result"
    }
   ],
   "source": [
    "# Traversing through a single link\n",
    "\n",
    "traverseLink(0, 1)\n",
    "products[0]"
   ]
  },
  {
   "cell_type": "code",
   "execution_count": 35,
   "id": "f8da1a15",
   "metadata": {},
   "outputs": [],
   "source": [
    "# Complete traversal\n",
    "\n",
    "traverseLink(2953, -1)\n",
    "# traverseLink(2500, 3500)"
   ]
  },
  {
   "cell_type": "code",
   "execution_count": 36,
   "id": "cae5ec2d",
   "metadata": {},
   "outputs": [
    {
     "data": {
      "text/plain": [
       "4099"
      ]
     },
     "execution_count": 36,
     "metadata": {},
     "output_type": "execute_result"
    }
   ],
   "source": [
    "len(products)"
   ]
  },
  {
   "cell_type": "code",
   "execution_count": 38,
   "id": "200a38ed",
   "metadata": {},
   "outputs": [],
   "source": [
    "json.dump(products, open(\"products.json\", \"w\"), indent = 4)"
   ]
  },
  {
   "cell_type": "code",
   "execution_count": null,
   "id": "9311c536",
   "metadata": {},
   "outputs": [],
   "source": []
  }
 ],
 "metadata": {
  "kernelspec": {
   "display_name": "Python 3 (ipykernel)",
   "language": "python",
   "name": "python3"
  },
  "language_info": {
   "codemirror_mode": {
    "name": "ipython",
    "version": 3
   },
   "file_extension": ".py",
   "mimetype": "text/x-python",
   "name": "python",
   "nbconvert_exporter": "python",
   "pygments_lexer": "ipython3",
   "version": "3.10.9"
  }
 },
 "nbformat": 4,
 "nbformat_minor": 5
}
